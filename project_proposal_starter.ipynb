{
 "cells": [
  {
   "cell_type": "markdown",
   "metadata": {
    "editable": false
   },
   "source": [
    "# Project Proposal\n",
    "\n",
    "Your proposal is this notebook (**complete it please!**). **If you are using your own custom information source, you would *also* submit a csv of that file along with this notebook.** \n",
    "\n",
    "We also recommend that if you are using your own information source, you discuss it with a TA first to get guidance on whether it is likely to work as an information source. \n",
    "\n",
    "In order to ensure equitable access to our TAs and to ensure that TAs don't get burdened with additional work, you are not allowed to contact them by email. If you need help, you must first go to lab or to an office hour. You can also contact your TA through the communication methods listed in the syllabus but do note that the reply time can take around 3 business days (especially as the communication volume increases around deadlines).\n",
    "\n",
    "As with your tutorials, use the submission cell at the bottom to submit this notebook.\n",
    "\n",
    "<font color=\"red\">**If you have previously taken the course, you cannot use the same data set, project topic, or type of graph as before.**</font>"
   ]
  },
  {
   "cell_type": "markdown",
   "metadata": {
    "editable": false
   },
   "source": [
    "## 1. Project Topic Choice\n",
    "\n",
    "My intended information source is: **fill in your information source from the provided on Canvas (Canvas -> Modules -> Project -> Sample Information Sources and Domains) or write \"my own custom information source, described below\"**.\n",
    "\n",
    "*If you used your own custom information source, ensure the csv file is submitted along with this notebook!*"
   ]
  },
  {
   "cell_type": "markdown",
   "metadata": {},
   "source": [
    "<font color=\"blue\">My group's custom information source, is described below. See the attachment csv file for Canada Consumer Price Index and its breakdown components</font>"
   ]
  },
  {
   "cell_type": "markdown",
   "metadata": {
    "editable": false
   },
   "source": [
    "## 2. Question/Topic to Explore\n",
    "\n",
    "Based on your chosen information source above, what question or topic do you want to explore?\n",
    "\n",
    "Your response should make clear what you find interesting in the information source and how you might analyze it. For example: \"I am curious about the relationship among profit, net profit, and operating cost, all three of which are fields (columns) in my information source. In particular, profit minus operating cost would be interesting to compare to net profit.\"\n",
    "\n",
    "*Note: If you chose your own custom information source above*, be sure to **specify a backup option from our set** of prepared information sources in case you can't use your own information source for some reason. \n",
    "\n",
    "\n",
    "##### For example: \n",
    "\"My information source is publicly-available data about the various professional teams and their scores. Please see: *insert the URL (web address) to the data you plan to use for the information source*. As requested, I have also uploaded the file with this submission. My question is: How does team colour choice (which I know from playing this game is a sort of 'marker of tribe') impact performance? As a backup, I'll use the video game sales information source and try to do something similar to my plan below but for which company created a game and how much money it made.\""
   ]
  },
  {
   "cell_type": "markdown",
   "metadata": {},
   "source": [
    "<font color=\"blue\"> Our information source is publicly available data about CPI and its 8 components: \"food\", \"shelter\", \"household operations, furnishings and equipment\", \"clothing and footwear\", \"transportation\", \"health and personal care\", \"recreation, education and reading\", and \"alcoholic beverages, tobacco products and recreational cannabis\". The data is from Stats Canada URL: https://www150.statcan.gc.ca/t1/tbl1/en/tv.action?pid=1810000401 . As requested, I have uploaded the file with this submission. CPI is a measure of the average price change for goods and services bought by consumers in Canada and is the most widely indicator for inflation. Our question is: How much does the overall CPI change per year and how does this increase compare to two major components of CPI shelter and food which are necessities? CPI has an impact on calibrating monetary policy. Our backup information will be Medical Insurance Data. Canvas -> Modules -> Project -> Sample Information Sources and Domains ->Medical Insurance Data.\r\n",
    "</font>"
   ]
  },
  {
   "cell_type": "markdown",
   "metadata": {
    "editable": false
   },
   "source": [
    "## 3. Planned Graph/Chart\n",
    "\n",
    "Your program must produce a graph or chart that helps to answer your question(s) about your information source.\n",
    "\n",
    "You will learn how to design functions that create graphs or charts in Module 8. You can choose from a line chart, histogram, bar chart, scatterplot, or pie chart.\n",
    "\n",
    "In the context of your question/topic above, **what graph or chart do you intend to produce**? **Write your answer in this section.**\n",
    "\n",
    "For most charts, you should tell us what will be on the y axis and what will be on the x axis. \n",
    "\n",
    "##### For example:\n",
    "Continuing the examples above, \"I plan to make a line graph with dollar amount on the y axis versus year on the x axis with two lines: one for profit minus operating cost and another for net profit.\" or \"I plan to create a bar chart of average points per game on the y axis with one bar for each team colour spread along the x axis.\""
   ]
  },
  {
   "cell_type": "markdown",
   "metadata": {},
   "source": [
    "<font color=\"blue\">We plan to make a line graph and potentially a scatterplot. The x-axis will be time covering a monthly 10-year period from 2013 to 2023. Our y-axis will be changes in CPI, and two components that make up the CPI: shelter and food. </font>"
   ]
  },
  {
   "cell_type": "markdown",
   "metadata": {
    "editable": false
   },
   "source": [
    "## 4. Substantial Computation\n",
    "\n",
    "In the process of creating your graph/chart, your program must perform some substantial computation that goes beyond selecting only certain rows of the existing information (also known as \"filtering\" the information), reading it as data, and plotting two columns from the resulting filtered data.\n",
    "\n",
    "In the context of your graph/chart above, **what substantial computation do you plan to perform**?\n",
    "\n",
    "##### For example:\n",
    "Continuing the examples above, \"I plan to find the difference between net profit and profit for each year of data to compare against the operating costs listed in another column.\" or \"I plan to group rows in my information by their team colour and take the average of each group's points per game.\")"
   ]
  },
  {
   "cell_type": "markdown",
   "metadata": {},
   "source": [
    "<font color=\"blue\">We plan to show how CPI, shelter, and food change over a 10-year period. We will standardize our data using lessons from data science showing dates monthly internal from Jan through Dec covering the years 2013 to 2023 with 120 columns running vertically and food, shelter, and other 6 components of CPI rows running horizontally. We will filter for shelter and food independently. To calculate the monthly CPI, we will sum the 8 major components of CPI to calculate the overall CPI. To find the monthly change in CPI or one of its 8 components, we will subtract the difference between monthly CPI divided by the prior month's CPI. (Feb CPI - Jan CPI)/Jan CPI. </font>"
   ]
  },
  {
   "cell_type": "code",
   "execution_count": 5,
   "metadata": {
    "deletable": false,
    "tags": []
   },
   "outputs": [
    {
     "ename": "NameError",
     "evalue": "name 'ASSIGNMENT' is not defined",
     "output_type": "error",
     "traceback": [
      "\u001b[0;31m---------------------------------------------------------------------------\u001b[0m",
      "\u001b[0;31mNameError\u001b[0m                                 Traceback (most recent call last)",
      "Cell \u001b[0;32mIn[5], line 10\u001b[0m\n\u001b[1;32m      5\u001b[0m COURSE \u001b[38;5;241m=\u001b[39m \u001b[38;5;241m130118\u001b[39m\n\u001b[1;32m      6\u001b[0m \u001b[38;5;66;03m# Uncomment the ASSIGNMENT row for your section\u001b[39;00m\n\u001b[1;32m      7\u001b[0m \u001b[38;5;66;03m# ASSIGNMENT = 1740565 #if you are in section 201\u001b[39;00m\n\u001b[1;32m      8\u001b[0m \u001b[38;5;66;03m# ASSIGNMENT = 1788038 #if you are in section 202\u001b[39;00m\n\u001b[0;32m---> 10\u001b[0m submit(COURSE, \u001b[43mASSIGNMENT\u001b[49m)\n\u001b[1;32m     12\u001b[0m \u001b[38;5;66;03m# If your submission fails, SUBMIT by downloading your files \u001b[39;00m\n\u001b[1;32m     13\u001b[0m \u001b[38;5;66;03m# and uploading them to Canvas. You can learn how on the page \u001b[39;00m\n\u001b[1;32m     14\u001b[0m \u001b[38;5;66;03m# \"How to submit your Jupyter notebook\" on our Canvas site.\u001b[39;00m\n",
      "\u001b[0;31mNameError\u001b[0m: name 'ASSIGNMENT' is not defined"
     ]
    }
   ],
   "source": [
    "# NOTE: You should not be able to edit this cell.\n",
    "# Instead, run this cell to start the submission process.\n",
    "from cs103 import submit\n",
    "\n",
    "COURSE = 130118\n",
    "# Uncomment the ASSIGNMENT row for your section\n",
    "# ASSIGNMENT = 1740565 #if you are in section 201\n",
    "# ASSIGNMENT = 1788038 #if you are in section 202\n",
    "\n",
    "submit(COURSE, ASSIGNMENT)\n",
    "\n",
    "# If your submission fails, SUBMIT by downloading your files \n",
    "# and uploading them to Canvas. You can learn how on the page \n",
    "# \"How to submit your Jupyter notebook\" on our Canvas site."
   ]
  },
  {
   "cell_type": "markdown",
   "metadata": {
    "editable": false
   },
   "source": [
    "# Please double check your submission on Canvas to ensure that the right file has been submitted\n",
    "\n",
    "<font color=\"red\">**You should always check your submission on Canvas. It is your responsibility to ensure that the correct file has been submitted for grading.**</font> Regrade or accomodation requests using reasoning such as \"I didn't realize I submitted the wrong file\"/\"I didn't realize the submission didn't work\"/\"I didn't realize I didn't save before submitting so some of my work is missing\" will not be considered."
   ]
  }
 ],
 "metadata": {
  "kernelspec": {
   "display_name": "Python 3 (ipykernel)",
   "language": "python",
   "name": "python3"
  },
  "language_info": {
   "codemirror_mode": {
    "name": "ipython",
    "version": 3
   },
   "file_extension": ".py",
   "mimetype": "text/x-python",
   "name": "python",
   "nbconvert_exporter": "python",
   "pygments_lexer": "ipython3",
   "version": "3.11.6"
  }
 },
 "nbformat": 4,
 "nbformat_minor": 4
}
