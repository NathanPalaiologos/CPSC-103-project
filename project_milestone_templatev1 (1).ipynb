{
 "cells": [
  {
   "cell_type": "markdown",
   "metadata": {
    "editable": false
   },
   "source": [
    "# Project Milestone Template"
   ]
  },
  {
   "cell_type": "markdown",
   "metadata": {
    "editable": false
   },
   "source": [
    "### Step 1a: Planning \n",
    "#### Identify the information in the file your program will read\n",
    "\n",
    "Describe (all) the information that is available. Be sure to note any surprising or unusual features. (For example, some information sources have missing data, which may be blank or flagged using values like -99, NaN, or something else.)"
   ]
  },
  {
   "cell_type": "markdown",
   "metadata": {},
   "source": [
    "<font color=\"blue\">\n",
    "    \n",
    "Our information source is publicly available data about CPI and its 8 components for Canada: \"food\", \"shelter\", \"household operations, furnishings, and equipment\", \"clothing and footwear\", \"transportation\", \"health and personal care\", \"recreation, education and reading\", and \"alcoholic beverages, tobacco products, and recreational cannabis\". The data covers every month from Jan 2013 to Dec 2023. The data is from Stats Canada URL: https://www150.statcan.gc.ca/t1/tbl1/en/tv.action?pid=1810000401. As requested, I have uploaded the file with this submission which provides a full spectrum of data with no missing data that could cause errors. CPI measures the average price change for the basket of goods and services consumers buy in Canada and is a widely used indicator for inflation. Our question is: How much does the overall CPI change monthly and how does this change compare to two major components of CPI shelter and food which are necessities? All three are fields in my information source. This information is important in calibrating monetary policy, making economic decisions, and gauging economic health.\n",
    "\n",
    "</font>"
   ]
  },
  {
   "cell_type": "markdown",
   "metadata": {
    "editable": false
   },
   "source": [
    "### Step 1b: Planning \n",
    "#### Brainstorm ideas for what your program will produce\n",
    "#### Select the idea you will build on for subsequent steps\n",
    "\n",
    "You must brainstorm at least three ideas for graphs or charts that your program could produce and choose the one that you'd like to work on. You can choose between a line chart, histogram, bar chart, scatterplot, or pie chart.\n",
    "\n",
    "If you would like to change your project idea from what was described in the proposal, you will need to get permission from your project TA. This is intended to help ensure that your new project idea will meet the requirements of the project. Please see the project proposal for things to be aware of when communicating with your project TA."
   ]
  },
  {
   "cell_type": "markdown",
   "metadata": {},
   "source": [
    "<font color=\"blue\">\n",
    "    \n",
    "Idea 1: Line graph. Idea 2: bar chart. Idea 3: scatterplot. Which one would be the best to represent the data? \n",
    "For the bar chart, we would show each year's bar chart highlighting food and housing in different colors while the other 6 components are kept the same color. The height of the full bar graph would be the CPI and the different colors within each bar would be its components. \n",
    "\n",
    "Our goal for visuals: able to visually show trends and changes. Able to visually see the relationship between food and housing and CPI. \n",
    "\n",
    "The line chart can show changing trends and changes over time including major shifts in the data. The relationship between the variables can be visually displayed. We can compare data sets seeing monthly changes: one line for CPI, one line for food, and one line for housing on the same line graph. The tradeoff would be more difficult to see individual data points. \n",
    "We would display on monthly basis the 10 year period showing CPI, food, and housing. \n",
    "\n",
    "Project approach: We plan to make 2 line graphs. Data definitions provides framework and structure for data points that we would plot on the x and y coordinates. The x-axis will be time covering a monthly 10-year period from Jan 2013 to Dec 2023 (120 data points). Our y-axis will be changes in CPI, and two components that make up the CPI: shelter and food totaling three lines on line graph. We will also be making a line graph with the x-axis being time covering a monthly 10-year period from Jan 2013 to Dec 2023 (120 data points). Our y-axis will be plotting CPI data, and two components that make up the CPI: shelter and food data totaling three lines on line graph\n",
    "\n",
    "We plan to show how CPI, shelter, and food change over a 10-year period. We will standardize our data using lessons from data science showing dates monthly internal from Jan through Dec covering the years 2013 to 2023 with 120 columns running vertically and food, shelter, and other 6 components of CPI rows running horizontally. We will filter for shelter and food columns independently. To find the monthly change in CPI or one of its 8 components, we will subtract the difference between monthly CPI divided by the prior month's CPI. (Feb 2013 CPI - Jan 2013 CPI)/Jan 2013 CPI.\n",
    "\n",
    "Data definition would be a compound for CPI linking its 8 components. The helper functions would parse data, filter data based on food and housing, and aggregate the data to plot on graph after calculating average. The graphing functions would provide the line graph with data points and lines that connect each related data point. \n",
    "\n",
    "How main program might work: Opens the CPI file, reads the file, extracts the relevant components (CPI, food and housing), organize it into CPIHistorical and plot a line chart. \n",
    "\n",
    "The bar chart is best used for comparing magnitudes of different categories. The bar graph is less relevant when all the data is related to CPI and comparing related categories. It is a strong clear visual that can be shown with different colors to emphasize ideas visually. One can show a greater number of different categories without feeling cluttered and overstimulated by too much info. The proportional bar graph can visually show all the components of CPI each with different colors. It is difficult to show individual data points or trends over time. It is more difficult to show whether there may be relationships between variables compared to the line graph. \n",
    "Compare the average CPI for food and housing components of CPI over 10 year period using two bar charts. Or annual proportional bar charts on an annual basis using 10 bar charts. \n",
    "\n",
    "Project approach: We plan to make 10 proportional bar graph showing food and housing as components of CPI in different colors while the other 6 categories are greyed out on annual basis covering 10 year period. X coordinate would be time and Y coordinate would be changes in CPI for food and housing. Changes in CPI calculated on monthly basis. Then take average over 12 months to plot. Data definition would be a list of tuples. \n",
    "\n",
    "cpi_data = [\r\n",
    "    (\"Jan\", {\"Food\":131.60, \"Housing\": 27.80, \"CPI\":121.35}),\r\n",
    "    (\"Feb\", {\"Food\":32.922, \"Housing\":27.912, \"CPI\"122.718}) \r\n",
    "    (\"Mar\", {\"Food\"32.4124, \"Housing\"28.0115, \"CPI\":2.912]1})}),the \n",
    "\n",
    "How main program might work: Opens the CPI file, reads the file, extracts the relevant components (CPI, food and housing), organize it into CPIHistorical, organize into the right data structure and plot a bar chart. \n",
    "\n",
    "A scatterplot is best used to show the relationship between two variables. It is best for finding outlier data and identifying patterns from data. We have three variables and this is not ideal for a variable scatterplot and plotting one would lead to a scatterplot not being effective in representing what we want it to show as it leads to overcrowded data points. \n",
    "Allow us to visualize how the food and housing components of CPI are related. Plot food and housing CPI values to identify trends and any outliers. The outliers and patterns can be looked at more closely to identity inflation t\n",
    "\n",
    "Data definition compound CPIHistorical is created like line graph. X axis show month and Y axis show changes in CPI for CPI, or its components food and shelter. ends. \n",
    "\n",
    "How main program might work: Opens the CPI file, reads the file, extracts the relevant components (CPI, food and housing), organize it into CPIHistorical and plot a scatterplot showing relationship between CPI and food and housing. \n",
    "\n",
    "</font>"
   ]
  },
  {
   "cell_type": "markdown",
   "metadata": {},
   "source": [
    "### Step 1c: Planning \n",
    "#### Write or draw examples of what your program will produce\n",
    "\n",
    "You must include a **hand-drawn image** that shows what your chart or plot will look like. You can insert an image using Edit -> Insert Image."
   ]
  },
  {
   "cell_type": "markdown",
   "metadata": {},
   "source": [
    "Insert your image into this cell."
   ]
  },
  {
   "cell_type": "markdown",
   "metadata": {
    "editable": false
   },
   "source": [
    "### Step 2a: Building\n",
    "#### Document which information you will represent in your data definitions\n",
    "\n",
    "Before you design data definitions in the code cell below, you must explicitly document here which information in the file you chose to represent and why that information is crucial to the chart or graph that you'll produce when you complete step 2c."
   ]
  },
  {
   "cell_type": "markdown",
   "metadata": {},
   "source": [
    "<font color=\"blue\">\n",
    "    \n",
    "In recent years, especially after the passing of the pandemic's height, inflation in food and housing has risen dramatically outpacing wage growth. Before the pandemic, home price increases were limited to major Canadian cities such as Toronto, or Vancouver where many immigrants and younger generations gravitate to better opportunities. During the pandemic, the supply chain became constrained causing delays and supply shortages with port prices increasing as much as 10x the normal price. This increases the cost of goods increasing construction material costs making building homes more expensive. With a rising population and limited goods, greater demand chased fewer goods. Human necessity; outside the basket of goods the average Canadian buys are food, shelter, and clothing. Out of the 3 options, food and shelter are needed for basic survival. \n",
    "\n",
    "We saw increases in both home prices and home rental costs in major cities and across Canada from Halifax Nova Scotia to small towns. There are few places one can go to escape the effects of inflation. Moreover, extreme weather from climate change from droughts to floods to cold snaps after the budding of crops has devastated crops combined with higher transportation costs from higher oil costs (partly related to wars happening globally) have caused grocery chains to pass on the extra cost to consumers. \n",
    "\n",
    "We wish to compare the changes in monthly CPI that the average Canadian purchases as a basket of goods to changes in Food and Housing, the latter of which more greatly impacts price-sensitive consumers, those with little disposable income, and the vulnerable population. We wish to compare over 10 years shown on the x-axis monthly (132 data points) and overall CPI, food, and housing on the y-axis. Moreover, Food and Housing are considered to be volatile goods subject to spikes which are often taken out of core CPI calculations. Time is represented as monthly shown as string Jan 2013, Feb 2013 to Dec 2023 or 01-2013 to 01-2023 numeric value. \n",
    "\n",
    "Hypothesis: We predict due to the above factors that we would see greater fluctuations to changes in Food and Housing CPI compared to overall CPI. These changes could be periods with deep declines compared to overall CPI but also rapid rises in price showing up as inflation which we have experienced after the pandemic. \n",
    "\n",
    "</font>"
   ]
  },
  {
   "cell_type": "markdown",
   "metadata": {
    "editable": false
   },
   "source": [
    "#### Design the data definitions"
   ]
  },
  {
   "cell_type": "code",
   "execution_count": 9,
   "metadata": {},
   "outputs": [],
   "source": [
    "from cs103 import *\n",
    "import csv\n",
    "from typing import NamedTuple, List"
   ]
  },
  {
   "cell_type": "code",
   "execution_count": 10,
   "metadata": {},
   "outputs": [],
   "source": [
    "##################\n",
    "# Data Definitions\n",
    "\n",
    "Consumed = ...\n",
    "\n",
    "\n",
    "\n",
    "# List[Consumed]\n",
    "# interp. a list of Consumed\n",
    "\n",
    "LOC0 = []\n",
    "\n",
    "@typecheck\n",
    "def fn_for_loc(loc: List[Consumed]) -> ...:\n",
    "    ... # choose which template body to use for List[Consumed]\n"
   ]
  },
  {
   "cell_type": "markdown",
   "metadata": {
    "editable": false
   },
   "source": [
    "### Step 2b: Building\n",
    "#### Design a function to read the information and store it as data in your program\n",
    "\n",
    "Complete this step in the code cell below. Your `read` function should remove any row with invalid or missing data but otherwise keep all the rows. I.e., you should **not** design the `read` function such that it only returns the rows you need for step 2c.\n",
    "\n",
    "You can choose to continue to build on this file when completing the final submission for the project (as opposed to copying your code over to the `project_final_submission_template.ipynb` file). However, if this is the approach you are taking, please go to the `project_final_submission_template.ipynb` file and read through the \"Step 2b and 2c: Building\" section. This section contains crucial information about common issues students encounter. We expect that you will be familiar with this information."
   ]
  },
  {
   "cell_type": "code",
   "execution_count": 11,
   "metadata": {},
   "outputs": [
    {
     "name": "stdout",
     "output_type": "stream",
     "text": [
      "\u001b[92m1 of 1 tests passed\u001b[0m\n"
     ]
    }
   ],
   "source": [
    "###########\n",
    "# Functions\n",
    "\n",
    "@typecheck\n",
    "def read(filename: str) -> List[Consumed]:\n",
    "    \"\"\"    \n",
    "    reads information from the specified file and returns ...\n",
    "    \"\"\"\n",
    "    #return []  #stub\n",
    "    # Template from HtDAP\n",
    "    # loc contains the result so far\n",
    "    loc = [] # type: List[Consumed]\n",
    "\n",
    "    with open(filename) as csvfile:\n",
    "        \n",
    "        reader = csv.reader(csvfile)\n",
    "        next(reader) # skip header line\n",
    "\n",
    "        for row in reader:\n",
    "            # you may not need to store all the rows, and you may need\n",
    "            # to convert some of the strings to other types\n",
    "            c = Consumed(row[0], ... ,row[n])\n",
    "            loc.append(c)\n",
    "    \n",
    "    return loc\n",
    "\n",
    "\n",
    "# Begin testing\n",
    "start_testing()\n",
    "\n",
    "# Examples and tests for read\n",
    "expect(..., ...)\n",
    "\n",
    "# show testing summary\n",
    "summary()"
   ]
  },
  {
   "cell_type": "code",
   "execution_count": 12,
   "metadata": {
    "deletable": false
   },
   "outputs": [
    {
     "ename": "NameError",
     "evalue": "name 'ASSIGNMENT' is not defined",
     "output_type": "error",
     "traceback": [
      "\u001b[0;31m---------------------------------------------------------------------------\u001b[0m",
      "\u001b[0;31mNameError\u001b[0m                                 Traceback (most recent call last)",
      "Cell \u001b[0;32mIn[12], line 17\u001b[0m\n\u001b[1;32m      7\u001b[0m COURSE \u001b[38;5;241m=\u001b[39m \u001b[38;5;241m130118\u001b[39m\n\u001b[1;32m      9\u001b[0m \u001b[38;5;66;03m# Uncomment the ASSIGNMENT row for your section\u001b[39;00m\n\u001b[1;32m     10\u001b[0m \u001b[38;5;66;03m# ASSIGNMENT = 1740563 #if you are in section 201\u001b[39;00m\n\u001b[1;32m     11\u001b[0m \u001b[38;5;66;03m# ASSIGNMENT = 1788043 #if you are in section 202\u001b[39;00m\n\u001b[0;32m   (...)\u001b[0m\n\u001b[1;32m     14\u001b[0m \u001b[38;5;66;03m# ASSIGNMENT = 1740562 #if you are in section 201\u001b[39;00m\n\u001b[1;32m     15\u001b[0m \u001b[38;5;66;03m# ASSIGNMENT = 1788053 #if you are in section 202\u001b[39;00m\n\u001b[0;32m---> 17\u001b[0m submit(COURSE, \u001b[43mASSIGNMENT\u001b[49m)\n\u001b[1;32m     19\u001b[0m \u001b[38;5;66;03m# If your submission fails, SUBMIT by downloading your files and uploading them to \u001b[39;00m\n\u001b[1;32m     20\u001b[0m \u001b[38;5;66;03m# Canvas. You can learn how on the page \"How to submit your Jupyter notebook\" on \u001b[39;00m\n\u001b[1;32m     21\u001b[0m \u001b[38;5;66;03m# our Canvas site.\u001b[39;00m\n",
      "\u001b[0;31mNameError\u001b[0m: name 'ASSIGNMENT' is not defined"
     ]
    }
   ],
   "source": [
    "# Be sure to select ALL THE FILES YOU NEED (including csv's) \n",
    "# when you submit. Also, UNLIKE USUAL, YOU CAN EDIT THIS CELL!\n",
    "# That's in case you want to switch the ASSIGNMENT code for the final\n",
    "# submission. Run this cell to start the submission process.\n",
    "from cs103 import submit\n",
    "\n",
    "COURSE = 130118\n",
    "\n",
    "# Uncomment the ASSIGNMENT row for your section\n",
    "# ASSIGNMENT = 1740563 #if you are in section 201\n",
    "# ASSIGNMENT = 1788043 #if you are in section 202\n",
    "\n",
    "# UNCOMMENT for final submission and RE-COMMENT line above\n",
    "# ASSIGNMENT = 1740562 #if you are in section 201\n",
    "# ASSIGNMENT = 1788053 #if you are in section 202\n",
    "\n",
    "submit(COURSE, ASSIGNMENT)\n",
    "\n",
    "# If your submission fails, SUBMIT by downloading your files and uploading them to \n",
    "# Canvas. You can learn how on the page \"How to submit your Jupyter notebook\" on \n",
    "# our Canvas site."
   ]
  },
  {
   "cell_type": "markdown",
   "metadata": {
    "editable": false
   },
   "source": [
    "# Please double check your submission on Canvas to ensure that the right files (Jupyter file + CSVs) have been submitted and that the files do not contain unexpected errors.\n",
    "\n",
    "<font color=\"red\">**You should always check your submission on Canvas. It is your responsibility to ensure that the correct file has been submitted for grading.**</font> Regrade or accomodation requests using reasoning such as \"I didn't realize I submitted the wrong file\"/\"I didn't realize the submission didn't work\"/\"I didn't realize I didn't save before submitting so some of my work is missing\" will not be considered."
   ]
  }
 ],
 "metadata": {
  "kernelspec": {
   "display_name": "Python 3 (ipykernel)",
   "language": "python",
   "name": "python3"
  },
  "language_info": {
   "codemirror_mode": {
    "name": "ipython",
    "version": 3
   },
   "file_extension": ".py",
   "mimetype": "text/x-python",
   "name": "python",
   "nbconvert_exporter": "python",
   "pygments_lexer": "ipython3",
   "version": "3.11.6"
  }
 },
 "nbformat": 4,
 "nbformat_minor": 4
}
